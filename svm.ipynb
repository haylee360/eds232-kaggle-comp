{
 "cells": [
  {
   "cell_type": "markdown",
   "metadata": {},
   "source": [
    "# SVM from Ian"
   ]
  },
  {
   "cell_type": "code",
   "execution_count": 4,
   "metadata": {},
   "outputs": [],
   "source": [
    "# Load basic libraries\n",
    "import pandas as pd\n",
    "import seaborn as sns\n",
    "import numpy as np\n",
    "import matplotlib.pyplot as plt\n",
    "import statistics as stats\n",
    "import time\n",
    "\n",
    "# XGB libraries\n",
    "from sklearn.model_selection import train_test_split, RandomizedSearchCV, StratifiedKFold, GridSearchCV, KFold\n",
    "from sklearn.preprocessing import LabelEncoder\n",
    "import xgboost as xgb\n",
    "from sklearn.model_selection import cross_val_score\n",
    "from hyperopt import hp, fmin, tpe, Trials, STATUS_OK\n",
    "from xgboost import XGBRegressor\n",
    "from sklearn.metrics import mean_squared_error\n",
    "from scipy.stats import uniform, randint\n",
    "from sklearn.preprocessing import StandardScaler\n",
    "from sklearn.svm import SVR\n",
    "\n",
    "\n",
    "\n",
    "# Import data\n",
    "train_df = pd.read_csv(\"data/train.csv\")\n",
    "test_df = pd.read_csv(\"data/test.csv\")\n",
    "sample_sub =  pd.read_csv(\"data/sample_submission.csv\")\n",
    "\n",
    "# Remove NA column from training data\n",
    "train_df = train_df.drop(columns='Unnamed: 12')\n",
    "\n",
    "# Fix column name error\n",
    "test_df = test_df.rename(columns={'TA1':'TA1.x'})"
   ]
  },
  {
   "cell_type": "code",
   "execution_count": 2,
   "metadata": {},
   "outputs": [],
   "source": [
    "# Assign features\n",
    "X = train_df.drop(columns=['id', 'DIC'], axis=1)\n",
    "y = train_df['DIC']\n",
    "\n",
    "# Split the data\n",
    "X_train, X_val, y_train, y_val = train_test_split(X, y, test_size=0.2, random_state=808) \n",
    "\n",
    "# Scale the data\n",
    "scaler = StandardScaler()\n",
    "X_train_scaled = pd.DataFrame(scaler.fit_transform(X_train), columns=X.columns)\n",
    "X_val_scaled = pd.DataFrame(scaler.transform(X_val), columns=X.columns)"
   ]
  },
  {
   "cell_type": "code",
   "execution_count": 5,
   "metadata": {},
   "outputs": [
    {
     "ename": "NameError",
     "evalue": "name 'X_train_scaled' is not defined",
     "output_type": "error",
     "traceback": [
      "\u001b[0;31m---------------------------------------------------------------------------\u001b[0m",
      "\u001b[0;31mNameError\u001b[0m                                 Traceback (most recent call last)",
      "Cell \u001b[0;32mIn[5], line 14\u001b[0m\n\u001b[1;32m     12\u001b[0m start_time \u001b[38;5;241m=\u001b[39m time\u001b[38;5;241m.\u001b[39mtime()\n\u001b[1;32m     13\u001b[0m \u001b[38;5;66;03m# Now fit should work with continuous target\u001b[39;00m\n\u001b[0;32m---> 14\u001b[0m grid_search_svm\u001b[38;5;241m.\u001b[39mfit(\u001b[43mX_train_scaled\u001b[49m, y_train)\n\u001b[1;32m     15\u001b[0m end_time \u001b[38;5;241m=\u001b[39m time\u001b[38;5;241m.\u001b[39mtime()\n\u001b[1;32m     17\u001b[0m svm_time \u001b[38;5;241m=\u001b[39m end_time \u001b[38;5;241m-\u001b[39m start_time\n",
      "\u001b[0;31mNameError\u001b[0m: name 'X_train_scaled' is not defined"
     ]
    }
   ],
   "source": [
    "param_grid = {\n",
    "    'C':[125],\n",
    "    'gamma': [0.001],\n",
    "    'kernel': ['linear'],\n",
    "    'tol': [0.002],\n",
    "    'epsilon': [5]\n",
    "}\n",
    "\n",
    "# Create GridSearchCV object with SVR\n",
    "grid_search_svm = GridSearchCV(SVR(), param_grid, cv=5)\n",
    "\n",
    "start_time = time.time()\n",
    "# Now fit should work with continuous target\n",
    "grid_search_svm.fit(X_train_scaled, y_train)\n",
    "end_time = time.time()\n",
    "\n",
    "svm_time = end_time - start_time\n",
    "print(svm_time)\n",
    "\n",
    "# Retrieve the best SVM model\n",
    "print(grid_search_svm.best_params_)\n"
   ]
  },
  {
   "cell_type": "code",
   "execution_count": 5,
   "metadata": {},
   "outputs": [
    {
     "name": "stdout",
     "output_type": "stream",
     "text": [
      "SVM RMSE: 7.7657\n"
     ]
    }
   ],
   "source": [
    "best_svm = grid_search_svm.best_estimator_\n",
    "\n",
    "best_svm.fit(X_train_scaled, y_train)\n",
    "\n",
    "best_svm_preds = best_svm.predict(X_val_scaled)\n",
    "\n",
    "rmse = np.sqrt(mean_squared_error(best_svm_preds, y_val))\n",
    "print(f\"SVM RMSE: {rmse:.4f}\")\n"
   ]
  },
  {
   "cell_type": "code",
   "execution_count": null,
   "metadata": {},
   "outputs": [],
   "source": [
    "# Prepare the test data\n",
    "X_test = test_df.drop(columns=['id'], axis=1)  # Drop id, but no need to drop DIC as it's not in test_df\n",
    "\n",
    "# Scale the test data using the same scaler\n",
    "X_test_scaled = pd.DataFrame(scaler.transform(X_test), columns=X_test.columns)\n",
    "\n",
    "# Make predictions on the test data using your best SVM model\n",
    "test_predictions = best_svm.predict(X_test_scaled)\n",
    "print(f\"Test Accuracy score: {svm_score}\")"
   ]
  },
  {
   "cell_type": "code",
   "execution_count": null,
   "metadata": {},
   "outputs": [],
   "source": [
    "# Create a submission dataframe\n",
    "submission = pd.DataFrame({\n",
    "    'id': test_df['id'],\n",
    "    'DIC': test_predictions\n",
    "})\n",
    "\n",
    "# Preview the submission file\n",
    "submission.head()\n",
    "\n",
    "# Save the submission to a CSV file\n",
    "# submission.to_csv('svm_submission.csv', index=False)"
   ]
  },
  {
   "cell_type": "markdown",
   "metadata": {},
   "source": [
    "Trying SVM with cross validation as opposed to `train_test_split`..."
   ]
  },
  {
   "cell_type": "code",
   "execution_count": 2,
   "metadata": {},
   "outputs": [],
   "source": [
    "# Assign features\n",
    "X = train_df.drop(columns=['id', 'DIC'], axis=1)\n",
    "y = train_df['DIC']\n",
    "X_test = test_df.drop(columns=['id'], axis=1) \n",
    "\n",
    "# Scale the data\n",
    "scaler = StandardScaler()\n",
    "X_scaled = pd.DataFrame(scaler.fit_transform(X), columns=X.columns)\n",
    "# For predictions later on...\n",
    "X_test_scaled = pd.DataFrame(scaler.transform(X_test), columns=X_test.columns)"
   ]
  },
  {
   "cell_type": "code",
   "execution_count": 20,
   "metadata": {},
   "outputs": [
    {
     "name": "stdout",
     "output_type": "stream",
     "text": [
      "Fitting 5 folds for each of 1944 candidates, totalling 9720 fits\n"
     ]
    },
    {
     "name": "stdout",
     "output_type": "stream",
     "text": [
      "Grid Search Time: 125.21 seconds\n",
      "Best Hyperparameters: {'C': 100, 'degree': 2, 'epsilon': 5, 'gamma': 'scale', 'kernel': 'linear', 'tol': 0.0001}\n"
     ]
    }
   ],
   "source": [
    "# Define K-Fold Cross-Validation\n",
    "kf = KFold(n_splits=5, shuffle=True, random_state=808)\n",
    "\n",
    "# Define parameter grid for GridSearchCV\n",
    "# param_grid = {\n",
    "#     'C': [125],\n",
    "#     'gamma': [0.001],\n",
    "#     'kernel': ['linear'],\n",
    "#     'tol': [0.002],\n",
    "#     'epsilon': [5]\n",
    "# }\n",
    "\n",
    "param_grid = {\n",
    "    'C': [0.1, 1, 10, 50, 100, 200],  # Regularization strength\n",
    "    'gamma': ['scale', 'auto', 0.0001, 0.001, 0.01, 0.1],  # Kernel coefficient\n",
    "    'kernel': ['linear', 'rbf', 'poly'],  # Kernel type\n",
    "    'degree': [2],  # Only used for 'poly' kernel\n",
    "    'epsilon': [0.01, 0.1, 0.5, 1, 5, 10],  # Defines margin of tolerance\n",
    "    'tol': [0.0001, 0.001, 0.01],  # Tolerance for stopping criteria\n",
    "}\n",
    "\n",
    "# Create GridSearchCV object with SVR\n",
    "grid_search_svm = GridSearchCV(SVR(), param_grid, cv=kf, scoring='neg_root_mean_squared_error', n_jobs=16, verbose=1)\n",
    "\n",
    "# Run grid search with cross-validation\n",
    "start_time = time.time()\n",
    "grid_search_svm.fit(X_scaled, y)\n",
    "end_time = time.time()\n",
    "\n",
    "svm_time = end_time - start_time\n",
    "print(f\"Grid Search Time: {svm_time:.2f} seconds\")\n",
    "\n",
    "# Retrieve the best SVM model\n",
    "print(\"Best Hyperparameters:\", grid_search_svm.best_params_)\n"
   ]
  },
  {
   "cell_type": "code",
   "execution_count": 22,
   "metadata": {},
   "outputs": [
    {
     "data": {
      "text/plain": [
       "-5.658652379600355"
      ]
     },
     "execution_count": 22,
     "metadata": {},
     "output_type": "execute_result"
    }
   ],
   "source": [
    "grid_search_svm.best_score_"
   ]
  },
  {
   "cell_type": "code",
   "execution_count": 23,
   "metadata": {},
   "outputs": [],
   "source": [
    "best_svm = grid_search_svm.best_estimator_\n",
    "\n",
    "# Train the best SVM model on full dataset\n",
    "best_svm.fit(X_scaled, y)\n",
    "\n",
    "# Predict on test set (make sure it's scaled using the same scaler)\n",
    "svm_preds = best_svm.predict(X_test_scaled)\n",
    "\n",
    "# Save predictions (optional)\n",
    "# pd.DataFrame(svm_preds, columns=['Predicted_DIC']).to_csv('svm_predictions.csv', index=False)\n"
   ]
  },
  {
   "cell_type": "code",
   "execution_count": 24,
   "metadata": {},
   "outputs": [
    {
     "data": {
      "text/html": [
       "<div>\n",
       "<style scoped>\n",
       "    .dataframe tbody tr th:only-of-type {\n",
       "        vertical-align: middle;\n",
       "    }\n",
       "\n",
       "    .dataframe tbody tr th {\n",
       "        vertical-align: top;\n",
       "    }\n",
       "\n",
       "    .dataframe thead th {\n",
       "        text-align: right;\n",
       "    }\n",
       "</style>\n",
       "<table border=\"1\" class=\"dataframe\">\n",
       "  <thead>\n",
       "    <tr style=\"text-align: right;\">\n",
       "      <th></th>\n",
       "      <th>id</th>\n",
       "      <th>DIC</th>\n",
       "    </tr>\n",
       "  </thead>\n",
       "  <tbody>\n",
       "    <tr>\n",
       "      <th>0</th>\n",
       "      <td>1455</td>\n",
       "      <td>2173.070942</td>\n",
       "    </tr>\n",
       "    <tr>\n",
       "      <th>1</th>\n",
       "      <td>1456</td>\n",
       "      <td>2195.057243</td>\n",
       "    </tr>\n",
       "    <tr>\n",
       "      <th>2</th>\n",
       "      <td>1457</td>\n",
       "      <td>2327.120345</td>\n",
       "    </tr>\n",
       "    <tr>\n",
       "      <th>3</th>\n",
       "      <td>1458</td>\n",
       "      <td>1993.791748</td>\n",
       "    </tr>\n",
       "    <tr>\n",
       "      <th>4</th>\n",
       "      <td>1459</td>\n",
       "      <td>2148.123678</td>\n",
       "    </tr>\n",
       "  </tbody>\n",
       "</table>\n",
       "</div>"
      ],
      "text/plain": [
       "     id          DIC\n",
       "0  1455  2173.070942\n",
       "1  1456  2195.057243\n",
       "2  1457  2327.120345\n",
       "3  1458  1993.791748\n",
       "4  1459  2148.123678"
      ]
     },
     "execution_count": 24,
     "metadata": {},
     "output_type": "execute_result"
    }
   ],
   "source": [
    "# Add DIC to test dataset\n",
    "test_df['DIC'] = svm_preds\n",
    "submission = test_df[['id', 'DIC']]\n",
    "submission.head()"
   ]
  },
  {
   "cell_type": "code",
   "execution_count": null,
   "metadata": {},
   "outputs": [],
   "source": [
    "# Export for submission\n",
    "# submission.to_csv('submission.csv', index=False)"
   ]
  }
 ],
 "metadata": {
  "kernelspec": {
   "display_name": "ml-env",
   "language": "python",
   "name": "python3"
  },
  "language_info": {
   "codemirror_mode": {
    "name": "ipython",
    "version": 3
   },
   "file_extension": ".py",
   "mimetype": "text/x-python",
   "name": "python",
   "nbconvert_exporter": "python",
   "pygments_lexer": "ipython3",
   "version": "3.10.16"
  }
 },
 "nbformat": 4,
 "nbformat_minor": 2
}
