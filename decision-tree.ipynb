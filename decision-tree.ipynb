{
 "cells": [
  {
   "cell_type": "markdown",
   "metadata": {},
   "source": [
    "# Decision Tree Regression"
   ]
  },
  {
   "cell_type": "code",
   "execution_count": 5,
   "metadata": {},
   "outputs": [],
   "source": [
    "# Basic libraries\n",
    "import pandas as pd\n",
    "import seaborn as sns\n",
    "import numpy as np\n",
    "import matplotlib.pyplot as plt\n",
    "import statistics as stats\n",
    "import time\n",
    "\n",
    "# Deep learning libraries\n",
    "from sklearn.model_selection import train_test_split,RandomizedSearchCV\n",
    "from sklearn.metrics import mean_squared_error\n",
    "from scipy.stats import uniform, randint\n",
    "from sklearn.preprocessing import StandardScaler\n",
    "from sklearn.linear_model import LinearRegression\n",
    "from sklearn.tree import DecisionTreeRegressor\n",
    "from sklearn.neighbors import KNeighborsRegressor\n",
    "\n",
    "\n",
    "# Import data\n",
    "train_df = pd.read_csv(\"data/train.csv\")\n",
    "test_df = pd.read_csv(\"data/test.csv\")\n",
    "sample_sub =  pd.read_csv(\"data/sample_submission.csv\")\n",
    "\n",
    "# Remove NA column from training data\n",
    "train_df = train_df.drop(columns='Unnamed: 12')\n",
    "\n",
    "# Fix column names error in test_df\n",
    "test_df = test_df.rename(columns={'TA1':'TA1.x'})"
   ]
  },
  {
   "cell_type": "code",
   "execution_count": 2,
   "metadata": {},
   "outputs": [],
   "source": [
    "# Assign features\n",
    "X = train_df.drop(columns='DIC')\n",
    "y = train_df['DIC']\n",
    "\n",
    "# Split the data\n",
    "X_train, X_val, y_train, y_val = train_test_split(X, y, test_size=0.3, random_state=808) \n",
    "\n",
    "# Scale the data\n",
    "scaler = StandardScaler()\n",
    "X_train_scaled = pd.DataFrame(scaler.fit_transform(X_train), columns=X.columns)\n",
    "X_val_scaled = pd.DataFrame(scaler.transform(X_val), columns=X.columns)"
   ]
  },
  {
   "cell_type": "code",
   "execution_count": 7,
   "metadata": {},
   "outputs": [
    {
     "name": "stdout",
     "output_type": "stream",
     "text": [
      "KNN RMSE: 12.5296\n",
      "Decision tree RMSE: 9.012253346011903\n"
     ]
    }
   ],
   "source": [
    "# Initialize models\n",
    "knn = KNeighborsRegressor(n_neighbors=5)\n",
    "dt = DecisionTreeRegressor(random_state=808)\n",
    "\n",
    "# Train (fit) both models\n",
    "knn.fit(X_train_scaled, y_train)\n",
    "dt.fit(X_train_scaled, y_train)\n",
    "\n",
    "# Predictions on training data\n",
    "knn_pred = knn.predict(X_val_scaled)\n",
    "dt_pred = dt.predict(X_val_scaled)\n",
    "\n",
    "# Compute training accuracy\n",
    "knn_rmse = np.sqrt(mean_squared_error(y_val, knn_pred))\n",
    "dt_rmse = np.sqrt(mean_squared_error(y_val, dt_pred))\n",
    "\n",
    "#Print training accuracy for both models\n",
    "print(f\"KNN RMSE: {knn_rmse:.4f}\")\n",
    "print(f\"Decision tree RMSE: {dt_rmse}\")"
   ]
  },
  {
   "cell_type": "code",
   "execution_count": null,
   "metadata": {},
   "outputs": [],
   "source": []
  }
 ],
 "metadata": {
  "kernelspec": {
   "display_name": "ml-env",
   "language": "python",
   "name": "python3"
  },
  "language_info": {
   "codemirror_mode": {
    "name": "ipython",
    "version": 3
   },
   "file_extension": ".py",
   "mimetype": "text/x-python",
   "name": "python",
   "nbconvert_exporter": "python",
   "pygments_lexer": "ipython3",
   "version": "3.10.16"
  }
 },
 "nbformat": 4,
 "nbformat_minor": 2
}
