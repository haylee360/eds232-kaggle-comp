{
 "cells": [
  {
   "cell_type": "markdown",
   "metadata": {},
   "source": [
    "# XGB kaggle comp"
   ]
  },
  {
   "cell_type": "code",
   "execution_count": 15,
   "metadata": {},
   "outputs": [],
   "source": [
    "# Load basic libraries\n",
    "import pandas as pd\n",
    "import seaborn as sns\n",
    "import numpy as np\n",
    "import matplotlib.pyplot as plt\n",
    "import statistics as stats\n",
    "import time\n",
    "\n",
    "# XGB libraries\n",
    "from sklearn.model_selection import train_test_split,RandomizedSearchCV\n",
    "from sklearn.preprocessing import LabelEncoder\n",
    "import xgboost as xgb\n",
    "from xgboost import XGBRegressor\n",
    "from sklearn.metrics import mean_squared_error\n",
    "from scipy.stats import uniform, randint\n",
    "from sklearn.preprocessing import StandardScaler\n",
    "\n",
    "\n",
    "# Import data\n",
    "train_df = pd.read_csv(\"data/train.csv\")\n",
    "test_df = pd.read_csv(\"data/test.csv\")\n",
    "sample_sub =  pd.read_csv(\"data/sample_submission.csv\")"
   ]
  },
  {
   "cell_type": "code",
   "execution_count": 2,
   "metadata": {},
   "outputs": [],
   "source": [
    "# Remove NA column from training data\n",
    "train_df = train_df.drop(columns='Unnamed: 12')\n",
    "\n",
    "# Assign features\n",
    "X = train_df.drop(columns='DIC')\n",
    "y = train_df['DIC']\n",
    "\n",
    "# Split the data\n",
    "X_train, X_val, y_train, y_val = train_test_split(X, y, test_size=0.3, random_state=808) \n",
    "\n",
    "# Scale the data\n",
    "scaler = StandardScaler()\n",
    "X_train_scaled = pd.DataFrame(scaler.fit_transform(X_train), columns=X.columns)\n",
    "X_val_scaled = pd.DataFrame(scaler.transform(X_val), columns=X.columns)"
   ]
  },
  {
   "cell_type": "code",
   "execution_count": 8,
   "metadata": {},
   "outputs": [
    {
     "name": "stdout",
     "output_type": "stream",
     "text": [
      "Best number of trees 305\n"
     ]
    }
   ],
   "source": [
    "# Determine best number of trees using early stopping\n",
    "xgb = XGBRegressor(\n",
    "    n_estimators=1000,\n",
    "    learning_rate=0.1, \n",
    "    early_stopping_rounds=50, \n",
    "    eval_metric=\"rmse\",  # Use RMSE for regression\n",
    "    random_state=808)\n",
    "\n",
    "# Fit model\n",
    "xgb.fit(X_train_scaled, y_train, eval_set=[(X_val_scaled, y_val)], verbose=0)\n",
    "\n",
    "# Print best number of trees\n",
    "best_ntrees = xgb.best_iteration\n",
    "print(f\"Best number of trees {best_ntrees}\")"
   ]
  },
  {
   "cell_type": "code",
   "execution_count": null,
   "metadata": {},
   "outputs": [
    {
     "name": "stdout",
     "output_type": "stream",
     "text": [
      "Best learning rate: 0.1561\n"
     ]
    }
   ],
   "source": [
    "# Initialize second XGB to tune learning rate\n",
    "xgb2 = XGBRegressor(\n",
    "    n_estimators=best_ntrees,\n",
    "    early_stopping_rounds=50, \n",
    "    eval_metric=\"rmse\", \n",
    "    random_state=808)\n",
    "\n",
    "# Fit model\n",
    "xgb2.fit(X_train_scaled, y_train, eval_set=[(X_val_scaled, y_val)], verbose=0)\n",
    "\n",
    "# Create a parameter distribution for learning rate\n",
    "param_dist = {\n",
    "    \"learning_rate\": uniform(0.01, 0.3), \n",
    "}\n",
    "\n",
    "# Set up RandomizedSearchCV\n",
    "rs = RandomizedSearchCV(\n",
    "    xgb2, param_dist, n_iter=20, scoring='neg_root_mean_squared_error', \n",
    "    cv=3, verbose=0, random_state=808, n_jobs=8\n",
    ")\n",
    "\n",
    "# Fit random search\n",
    "rs.fit(X_train_scaled, y_train, eval_set=[(X_val_scaled, y_val)], verbose=0)\n",
    "\n",
    "# Print best number of learners\n",
    "best_lr = rs.best_params_['learning_rate']\n",
    "print(f\"Best learning rate: {best_lr:.4f}\")"
   ]
  },
  {
   "cell_type": "code",
   "execution_count": 12,
   "metadata": {},
   "outputs": [
    {
     "name": "stdout",
     "output_type": "stream",
     "text": [
      "Best tree parameters: {'gamma': 0.06711966552658265, 'max_depth': 5, 'min_child_weight': 3}\n"
     ]
    }
   ],
   "source": [
    "# Tune tree specific parameters\n",
    "xgb3 = XGBRegressor(\n",
    "    n_estimators = best_ntrees,\n",
    "    learning_rate = best_lr, \n",
    "    early_stopping_rounds=50, \n",
    "    eval_metric=\"rmse\", \n",
    "    random_state=808)\n",
    "\n",
    "# Fit model\n",
    "xgb3.fit(X_train_scaled, y_train, eval_set=[(X_val_scaled, y_val)], verbose=0)\n",
    "\n",
    "# Second param dist\n",
    "param_dist2 = {\n",
    "    \"max_depth\": randint(3, 10), \n",
    "    \"min_child_weight\": randint(1, 10),\n",
    "    \"gamma\": uniform(0.05, 0.05)\n",
    "}\n",
    "\n",
    "# Set up RandomizedSearchCV\n",
    "rs2 = RandomizedSearchCV(\n",
    "    xgb3, param_dist2, \n",
    "    n_iter=20, scoring='neg_root_mean_squared_error', \n",
    "    cv=3, verbose=False, random_state=808, n_jobs=10\n",
    ")\n",
    "\n",
    "# Run random search\n",
    "rs2.fit(X_train_scaled, y_train, eval_set=[(X_val_scaled, y_val)], verbose=0)\n",
    "\n",
    "# Print best tree parameters\n",
    "best_tree_params = rs2.best_params_\n",
    "print(f\"Best tree parameters: {best_tree_params}\")"
   ]
  },
  {
   "cell_type": "code",
   "execution_count": 13,
   "metadata": {},
   "outputs": [
    {
     "name": "stdout",
     "output_type": "stream",
     "text": [
      "Best stochastic parameters: {'colsample_bytree': 0.6673574366507202, 'subsample': 0.8046025228990683}\n"
     ]
    }
   ],
   "source": [
    "# Tune stochastic components\n",
    "xgb4 = XGBRegressor(\n",
    "    n_estimators=best_ntrees,\n",
    "    learning_rate=best_lr,\n",
    "    **best_tree_params, \n",
    "    early_stopping_rounds=50, \n",
    "    eval_metric=\"rmse\", \n",
    "    random_state=808)\n",
    "\n",
    "# Fit model\n",
    "xgb4.fit(X_train_scaled, y_train, eval_set=[(X_val_scaled, y_val)], verbose=0)\n",
    "\n",
    "# Third param dist\n",
    "param_dist3 = {\n",
    "    \"subsample\": uniform(0.5, 0.5),\n",
    "    \"colsample_bytree\": uniform(0.5, 0.5) \n",
    "}\n",
    "\n",
    "# Set up RandomizedSearchCV\n",
    "rs3 = RandomizedSearchCV(\n",
    "    xgb4, param_dist3, n_iter=20, scoring='neg_root_mean_squared_error', \n",
    "    cv=3, verbose=False, random_state=808, n_jobs=10\n",
    ")\n",
    "\n",
    "# Run random search\n",
    "rs3.fit(X_train_scaled, y_train, eval_set=[(X_val_scaled, y_val)], verbose=0)\n",
    "\n",
    "# Print best stochastic parameters\n",
    "best_stochastic_params = rs3.best_params_\n",
    "print(f\"Best stochastic parameters: {best_stochastic_params}\")"
   ]
  },
  {
   "cell_type": "code",
   "execution_count": 3,
   "metadata": {},
   "outputs": [
    {
     "data": {
      "text/plain": [
       "Index(['id', 'Lat_Dec', 'Lon_Dec', 'NO2uM', 'NO3uM', 'NH3uM', 'R_TEMP',\n",
       "       'R_Depth', 'R_Sal', 'R_DYNHT', 'R_Nuts', 'R_Oxy_micromol.Kg', 'PO4uM',\n",
       "       'SiO3uM', 'TA1', 'Salinity1', 'Temperature_degC'],\n",
       "      dtype='object')"
      ]
     },
     "execution_count": 3,
     "metadata": {},
     "output_type": "execute_result"
    }
   ],
   "source": [
    "test_df.columns"
   ]
  },
  {
   "cell_type": "code",
   "execution_count": 16,
   "metadata": {},
   "outputs": [
    {
     "name": "stdout",
     "output_type": "stream",
     "text": [
      "Mean Squared Error (MSE): 47.4414\n",
      "Root Mean Squared Error (RMSE): 6.8878\n"
     ]
    }
   ],
   "source": [
    "# Assign features\n",
    "X_test= test_df\n",
    "# y_test = test_df['DIC'] There is no DIC in the test df\n",
    "\n",
    "\n",
    "# Initialize fifth XGB model\n",
    "xgb5 = XGBRegressor(\n",
    "    n_estimators=best_ntrees,\n",
    "    learning_rate=best_lr,\n",
    "    **best_tree_params, \n",
    "    **best_stochastic_params, \n",
    "    early_stopping_rounds=50, \n",
    "    eval_metric=\"rmse\", \n",
    "    random_state=808)\n",
    "\n",
    "# Fit model\n",
    "xgb5.fit(X_train_scaled, y_train, eval_set=[(X_val_scaled, y_val)], verbose=0)\n",
    "\n",
    "# Predict on testing data\n",
    "y_pred = xgb5.predict(X_val_scaled)\n",
    "\n",
    "# Calculate Mean Squared Error (MSE)\n",
    "mse = mean_squared_error(y_val, y_pred)\n",
    "\n",
    "# Calculate Root Mean Squared Error (RMSE)\n",
    "rmse = np.sqrt(mse)\n",
    "\n",
    "print(f\"Mean Squared Error (MSE): {mse:.4f}\")\n",
    "print(f\"Root Mean Squared Error (RMSE): {rmse:.4f}\")"
   ]
  },
  {
   "cell_type": "code",
   "execution_count": 17,
   "metadata": {},
   "outputs": [
    {
     "data": {
      "text/html": [
       "<div>\n",
       "<style scoped>\n",
       "    .dataframe tbody tr th:only-of-type {\n",
       "        vertical-align: middle;\n",
       "    }\n",
       "\n",
       "    .dataframe tbody tr th {\n",
       "        vertical-align: top;\n",
       "    }\n",
       "\n",
       "    .dataframe thead th {\n",
       "        text-align: right;\n",
       "    }\n",
       "</style>\n",
       "<table border=\"1\" class=\"dataframe\">\n",
       "  <thead>\n",
       "    <tr style=\"text-align: right;\">\n",
       "      <th></th>\n",
       "      <th>Feature</th>\n",
       "      <th>Importance</th>\n",
       "    </tr>\n",
       "  </thead>\n",
       "  <tbody>\n",
       "    <tr>\n",
       "      <th>12</th>\n",
       "      <td>PO4uM</td>\n",
       "      <td>0.494485</td>\n",
       "    </tr>\n",
       "    <tr>\n",
       "      <th>13</th>\n",
       "      <td>SiO3uM</td>\n",
       "      <td>0.370204</td>\n",
       "    </tr>\n",
       "    <tr>\n",
       "      <th>11</th>\n",
       "      <td>R_Oxy_micromol.Kg</td>\n",
       "      <td>0.082770</td>\n",
       "    </tr>\n",
       "    <tr>\n",
       "      <th>7</th>\n",
       "      <td>R_Depth</td>\n",
       "      <td>0.015209</td>\n",
       "    </tr>\n",
       "    <tr>\n",
       "      <th>8</th>\n",
       "      <td>R_Sal</td>\n",
       "      <td>0.011374</td>\n",
       "    </tr>\n",
       "    <tr>\n",
       "      <th>14</th>\n",
       "      <td>TA1.x</td>\n",
       "      <td>0.011063</td>\n",
       "    </tr>\n",
       "    <tr>\n",
       "      <th>4</th>\n",
       "      <td>NO3uM</td>\n",
       "      <td>0.010024</td>\n",
       "    </tr>\n",
       "    <tr>\n",
       "      <th>15</th>\n",
       "      <td>Salinity1</td>\n",
       "      <td>0.003528</td>\n",
       "    </tr>\n",
       "    <tr>\n",
       "      <th>6</th>\n",
       "      <td>R_TEMP</td>\n",
       "      <td>0.000303</td>\n",
       "    </tr>\n",
       "    <tr>\n",
       "      <th>3</th>\n",
       "      <td>NO2uM</td>\n",
       "      <td>0.000191</td>\n",
       "    </tr>\n",
       "    <tr>\n",
       "      <th>2</th>\n",
       "      <td>Lon_Dec</td>\n",
       "      <td>0.000157</td>\n",
       "    </tr>\n",
       "    <tr>\n",
       "      <th>16</th>\n",
       "      <td>Temperature_degC</td>\n",
       "      <td>0.000153</td>\n",
       "    </tr>\n",
       "    <tr>\n",
       "      <th>9</th>\n",
       "      <td>R_DYNHT</td>\n",
       "      <td>0.000131</td>\n",
       "    </tr>\n",
       "    <tr>\n",
       "      <th>5</th>\n",
       "      <td>NH3uM</td>\n",
       "      <td>0.000122</td>\n",
       "    </tr>\n",
       "    <tr>\n",
       "      <th>1</th>\n",
       "      <td>Lat_Dec</td>\n",
       "      <td>0.000119</td>\n",
       "    </tr>\n",
       "    <tr>\n",
       "      <th>0</th>\n",
       "      <td>id</td>\n",
       "      <td>0.000107</td>\n",
       "    </tr>\n",
       "    <tr>\n",
       "      <th>10</th>\n",
       "      <td>R_Nuts</td>\n",
       "      <td>0.000062</td>\n",
       "    </tr>\n",
       "  </tbody>\n",
       "</table>\n",
       "</div>"
      ],
      "text/plain": [
       "              Feature  Importance\n",
       "12              PO4uM    0.494485\n",
       "13             SiO3uM    0.370204\n",
       "11  R_Oxy_micromol.Kg    0.082770\n",
       "7             R_Depth    0.015209\n",
       "8               R_Sal    0.011374\n",
       "14              TA1.x    0.011063\n",
       "4               NO3uM    0.010024\n",
       "15          Salinity1    0.003528\n",
       "6              R_TEMP    0.000303\n",
       "3               NO2uM    0.000191\n",
       "2             Lon_Dec    0.000157\n",
       "16   Temperature_degC    0.000153\n",
       "9             R_DYNHT    0.000131\n",
       "5               NH3uM    0.000122\n",
       "1             Lat_Dec    0.000119\n",
       "0                  id    0.000107\n",
       "10             R_Nuts    0.000062"
      ]
     },
     "execution_count": 17,
     "metadata": {},
     "output_type": "execute_result"
    }
   ],
   "source": [
    "\n",
    "# Get feature importance\n",
    "feature_importance = pd.DataFrame({'Feature': X_train_scaled.columns, 'Importance': xgb5.feature_importances_})\n",
    "\n",
    "# Sort by importance\n",
    "feature_importance = feature_importance.sort_values(by=\"Importance\", ascending=False)\n",
    "feature_importance"
   ]
  }
 ],
 "metadata": {
  "kernelspec": {
   "display_name": "ml-env",
   "language": "python",
   "name": "python3"
  },
  "language_info": {
   "codemirror_mode": {
    "name": "ipython",
    "version": 3
   },
   "file_extension": ".py",
   "mimetype": "text/x-python",
   "name": "python",
   "nbconvert_exporter": "python",
   "pygments_lexer": "ipython3",
   "version": "3.10.16"
  }
 },
 "nbformat": 4,
 "nbformat_minor": 2
}
