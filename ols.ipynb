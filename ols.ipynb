{
 "cells": [
  {
   "cell_type": "markdown",
   "metadata": {},
   "source": [
    "# OLS Linear Regression"
   ]
  },
  {
   "cell_type": "code",
   "execution_count": 2,
   "metadata": {},
   "outputs": [],
   "source": [
    "# Basic libraries\n",
    "import pandas as pd\n",
    "import seaborn as sns\n",
    "import numpy as np\n",
    "import matplotlib.pyplot as plt\n",
    "import statistics as stats\n",
    "import time\n",
    "\n",
    "# Deep learning libraries\n",
    "from sklearn.model_selection import train_test_split,RandomizedSearchCV\n",
    "from sklearn.metrics import mean_squared_error\n",
    "from scipy.stats import uniform, randint\n",
    "from sklearn.preprocessing import StandardScaler\n",
    "from sklearn.linear_model import LinearRegression\n",
    "from sklearn.linear_model import Ridge\n",
    "from sklearn.linear_model import Lasso\n",
    "from sklearn.linear_model import RidgeCV\n",
    "from sklearn.linear_model import LassoCV\n",
    "\n",
    "# Import data\n",
    "train_df = pd.read_csv(\"data/train.csv\")\n",
    "test_df = pd.read_csv(\"data/test.csv\")\n",
    "sample_sub =  pd.read_csv(\"data/sample_submission.csv\")\n",
    "\n",
    "# Remove NA column from training data\n",
    "train_df = train_df.drop(columns='Unnamed: 12')\n",
    "\n",
    "# Fix column names error in test_df\n",
    "test_df = test_df.rename(columns={'TA1':'TA1.x'})"
   ]
  },
  {
   "cell_type": "code",
   "execution_count": 3,
   "metadata": {},
   "outputs": [],
   "source": [
    "# Assign features\n",
    "X = train_df.drop(columns='DIC')\n",
    "y = train_df['DIC']\n",
    "\n",
    "# Split the data\n",
    "X_train, X_val, y_train, y_val = train_test_split(X, y, test_size=0.3, random_state=808) \n",
    "\n",
    "# Scale the data\n",
    "scaler = StandardScaler()\n",
    "X_train_scaled = pd.DataFrame(scaler.fit_transform(X_train), columns=X.columns)\n",
    "X_val_scaled = pd.DataFrame(scaler.transform(X_val), columns=X.columns)"
   ]
  },
  {
   "cell_type": "code",
   "execution_count": 8,
   "metadata": {},
   "outputs": [
    {
     "name": "stdout",
     "output_type": "stream",
     "text": [
      "Final RMSE: 6.7242\n"
     ]
    }
   ],
   "source": [
    "# Create OLS instance and fit it\n",
    "ols = LinearRegression()\n",
    "ols.fit(X_train_scaled, y_train)\n",
    "\n",
    "y_pred = ols.predict(X_val_scaled)\n",
    "\n",
    "rmse = np.sqrt(mean_squared_error(y_val, y_pred))\n",
    "print(f\"Final RMSE: {rmse:.4f}\")"
   ]
  },
  {
   "cell_type": "markdown",
   "metadata": {},
   "source": [
    "### Trying ridge regression"
   ]
  },
  {
   "cell_type": "code",
   "execution_count": 12,
   "metadata": {},
   "outputs": [
    {
     "name": "stdout",
     "output_type": "stream",
     "text": [
      "Best alpha: 0.9111627561154896\n",
      "RMSE Ridge with best alpha: 6.7328\n"
     ]
    }
   ],
   "source": [
    "# Define the three alpha values\n",
    "# alphas = [0.1, 1.0, 10.0]\n",
    "alphas =  np.logspace(-4, 4, 100)\n",
    "\n",
    "# Fit RidgeCV\n",
    "ridge_cv = RidgeCV(alphas=alphas, cv=10).fit(X_train_scaled, y_train) \n",
    "# using ten fold cross validation. 30 models total\n",
    "\n",
    "# Print best alpha\n",
    "print(f\"Best alpha: {ridge_cv.alpha_}\")\n",
    "# print(f\"All alphas: {ridge_cv.alphas}\")\n",
    "\n",
    "# Once we know what the best alpha is, we can move on to the test phase and see how well it does\n",
    "# Evaluate model with the best alpha\n",
    "y_pred_cv = ridge_cv.predict(X_val_scaled)\n",
    "rmse_ridge = np.sqrt(mean_squared_error(y_val, y_pred_cv))\n",
    "print(f\"RMSE Ridge with best alpha: {rmse_ridge:.4f}\")"
   ]
  },
  {
   "cell_type": "code",
   "execution_count": 14,
   "metadata": {},
   "outputs": [
    {
     "name": "stdout",
     "output_type": "stream",
     "text": [
      "Best alpha: 1.0\n",
      "RMSE Ridge with best alpha: 7.1573\n"
     ]
    }
   ],
   "source": [
    "# Define the three alpha values\n",
    "alphas = [0.1, 1.0, 10.0]\n",
    "# alphas =  np.logspace(-4, 4, 100)\n",
    "\n",
    "# Fit RidgeCV\n",
    "lasso_cv = LassoCV(alphas=alphas, cv=10).fit(X_train_scaled, y_train) \n",
    "# using ten fold cross validation. 30 models total\n",
    "\n",
    "# Print best alpha\n",
    "print(f\"Best alpha: {lasso_cv.alpha_}\")\n",
    "# print(f\"All alphas: {lasso_cv.alphas}\")\n",
    "\n",
    "# Once we know what the best alpha is, we can move on to the test phase and see how well it does\n",
    "# Evaluate model with the best alpha\n",
    "y_pred_cv = lasso_cv.predict(X_val_scaled)\n",
    "rmse_ridge = np.sqrt(mean_squared_error(y_val, y_pred_cv))\n",
    "print(f\"RMSE Ridge with best alpha: {rmse_ridge:.4f}\")"
   ]
  },
  {
   "cell_type": "code",
   "execution_count": null,
   "metadata": {},
   "outputs": [],
   "source": []
  }
 ],
 "metadata": {
  "kernelspec": {
   "display_name": "ml-env",
   "language": "python",
   "name": "python3"
  },
  "language_info": {
   "codemirror_mode": {
    "name": "ipython",
    "version": 3
   },
   "file_extension": ".py",
   "mimetype": "text/x-python",
   "name": "python",
   "nbconvert_exporter": "python",
   "pygments_lexer": "ipython3",
   "version": "3.10.16"
  }
 },
 "nbformat": 4,
 "nbformat_minor": 2
}
