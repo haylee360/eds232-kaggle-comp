{
 "cells": [
  {
   "cell_type": "markdown",
   "metadata": {},
   "source": [
    "# EDS232/CalCOFI Ocean chemistry prediction 2025\n",
    "\n",
    "Team members: Stephen Carroll, Tom Gibbons-Matsuyama, Ian Morris-Sibaja, Haylee Oyler \n",
    "\n",
    "### Description\n",
    "For this quarter’s final lab, you will apply the machine learning knowledge you’ve gained to train models that predict dissolved inorganic carbon (DIC) levels in water samples collected by the California Cooperative Oceanic Fisheries Investigations program.\n",
    "\n",
    "In this lab, you'll be working with real-world environmental data in a friendly competition with your classmates to see who can develop the most accurate predictive model.\n",
    "\n",
    "## Your Task\n",
    "- **Acquire domain knowledge**: Provided by Dr. Satterthwaite in her presentation\n",
    "- **Explore the data**: Load the dataset and perform initial exploratory data analysis to inform your modeling choices\n",
    "- **Preprocessing** (if necessary): Is the data ready to be used in your model?\n",
    "- **Choose and train a model**: Select an appropriate machine learning algorithm for this task. Train your model on the provided training data\n",
    "- **Tune relevant parameters**: Use cross-validation to optimize model performance. Experiment with different hyperparameters to reduce error\n",
    "- **Submit your prediction**: Generate predictions on the provided test dataset"
   ]
  },
  {
   "cell_type": "code",
   "execution_count": 1,
   "metadata": {},
   "outputs": [],
   "source": [
    "# Load libraries\n",
    "import pandas as pd\n",
    "import seaborn as sns\n",
    "import matplotlib.pyplot as plt\n",
    "import statistics as stats\n",
    "import time\n",
    "from sklearn.model_selection import train_test_split, StratifiedKFold, GridSearchCV\n",
    "from sklearn.preprocessing import StandardScaler\n",
    "from sklearn.svm import SVC\n",
    "from sklearn.ensemble import RandomForestClassifier\n",
    "from sklearn.metrics import accuracy_score, confusion_matrix\n",
    "import xgboost as xgb\n",
    "from xgboost import XGBClassifier\n",
    "from sklearn.metrics import roc_auc_score\n",
    "from scipy.stats import uniform, randint\n",
    "from sklearn.impute import KNNImputer\n",
    "from sklearn.tree import DecisionTreeRegressor, plot_tree\n",
    "from sklearn.ensemble import RandomForestRegressor\n",
    "from sklearn.metrics import mean_squared_error\n",
    "from sklearn.preprocessing import LabelEncoder\n",
    "\n",
    "# Import data\n",
    "train_df = pd.read_csv(\"data/eds-232-cal-cofi-ocean-chemistry-prediction-2025/train.csv\")\n",
    "test_df = pd.read_csv(\"data/eds-232-cal-cofi-ocean-chemistry-prediction-2025/test.csv\")\n",
    "sample_sub =  pd.read_csv(\"data/eds-232-cal-cofi-ocean-chemistry-prediction-2025/sample_submission.csv\")"
   ]
  }
 ],
 "metadata": {
  "kernelspec": {
   "display_name": "ml-env",
   "language": "python",
   "name": "python3"
  },
  "language_info": {
   "codemirror_mode": {
    "name": "ipython",
    "version": 3
   },
   "file_extension": ".py",
   "mimetype": "text/x-python",
   "name": "python",
   "nbconvert_exporter": "python",
   "pygments_lexer": "ipython3",
   "version": "3.10.16"
  }
 },
 "nbformat": 4,
 "nbformat_minor": 2
}
